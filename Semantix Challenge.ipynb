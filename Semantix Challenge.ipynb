{
 "cells": [
  {
   "cell_type": "markdown",
   "metadata": {},
   "source": [
    "**Import Pyspark**"
   ]
  },
  {
   "cell_type": "code",
   "execution_count": 122,
   "metadata": {},
   "outputs": [],
   "source": [
    "from pyspark.sql import SparkSession\n",
    "from pyspark.sql.types import StructField,StringType,IntegerType,StructType\n",
    "from pyspark.sql import functions as f"
   ]
  },
  {
   "cell_type": "markdown",
   "metadata": {},
   "source": [
    "**Start Spark**"
   ]
  },
  {
   "cell_type": "code",
   "execution_count": 123,
   "metadata": {},
   "outputs": [],
   "source": [
    "spark = SparkSession.builder.appName(\"SemantixChallenge\").getOrCreate()"
   ]
  },
  {
   "cell_type": "markdown",
   "metadata": {},
   "source": [
    "**Create Schema**"
   ]
  },
  {
   "cell_type": "code",
   "execution_count": 124,
   "metadata": {},
   "outputs": [],
   "source": [
    "data_schema = [StructField(\"host\", StringType(), True),StructField(\"timestamp\", StringType(), True),\n",
    "              StructField(\"timezone\", StringType(), True),StructField(\"request\", StringType(), True),\n",
    "              StructField(\"type_request\", StringType(), True),StructField(\"response\", StringType(), True),\n",
    "              StructField(\"bytes\", StringType(), True)]"
   ]
  },
  {
   "cell_type": "code",
   "execution_count": 125,
   "metadata": {},
   "outputs": [
    {
     "data": {
      "text/plain": [
       "list"
      ]
     },
     "execution_count": 125,
     "metadata": {},
     "output_type": "execute_result"
    }
   ],
   "source": [
    "type (data_schema)"
   ]
  },
  {
   "cell_type": "code",
   "execution_count": 126,
   "metadata": {},
   "outputs": [],
   "source": [
    "final_struc = StructType(fields=data_schema)"
   ]
  },
  {
   "cell_type": "markdown",
   "metadata": {},
   "source": [
    "**Load Data**"
   ]
  },
  {
   "cell_type": "code",
   "execution_count": 127,
   "metadata": {},
   "outputs": [],
   "source": [
    "df = spark.read.csv('NASA_access_log_merged_Jul95_Aug95.csv', schema=final_struc)"
   ]
  },
  {
   "cell_type": "markdown",
   "metadata": {},
   "source": [
    "**Show Schema**"
   ]
  },
  {
   "cell_type": "code",
   "execution_count": 128,
   "metadata": {},
   "outputs": [
    {
     "name": "stdout",
     "output_type": "stream",
     "text": [
      "root\n",
      " |-- host: string (nullable = true)\n",
      " |-- timestamp: string (nullable = true)\n",
      " |-- timezone: string (nullable = true)\n",
      " |-- request: string (nullable = true)\n",
      " |-- type_request: string (nullable = true)\n",
      " |-- response: string (nullable = true)\n",
      " |-- bytes: string (nullable = true)\n",
      "\n"
     ]
    }
   ],
   "source": [
    "df.printSchema()"
   ]
  },
  {
   "cell_type": "markdown",
   "metadata": {},
   "source": [
    "**Show Data**"
   ]
  },
  {
   "cell_type": "code",
   "execution_count": 129,
   "metadata": {},
   "outputs": [
    {
     "name": "stdout",
     "output_type": "stream",
     "text": [
      "+--------------------+--------------------+--------+--------------------+------------+--------+-----+\n",
      "|                host|           timestamp|timezone|             request|type_request|response|bytes|\n",
      "+--------------------+--------------------+--------+--------------------+------------+--------+-----+\n",
      "|        199.72.81.55|01/Jul/1995:00:00:01|   -0400| GET/history/apollo/|    HTTP/1.0|     200| 6245|\n",
      "|unicomp6.unicomp.net|01/Jul/1995:00:00:06|   -0400|GET/shuttle/count...|    HTTP/1.0|     200| 3985|\n",
      "|      199.120.110.21|01/Jul/1995:00:00:09|   -0400|GET/shuttle/missi...|    HTTP/1.0|     200| 4085|\n",
      "|  burger.letters.com|01/Jul/1995:00:00:11|   -0400|GET/shuttle/count...|    HTTP/1.0|     304|    0|\n",
      "|      199.120.110.21|01/Jul/1995:00:00:11|   -0400|GET/shuttle/missi...|    HTTP/1.0|     200| 4179|\n",
      "|  burger.letters.com|01/Jul/1995:00:00:12|   -0400|GET/images/NASA-l...|    HTTP/1.0|     304|    0|\n",
      "|  burger.letters.com|01/Jul/1995:00:00:12|   -0400|GET/shuttle/count...|    HTTP/1.0|     200|    0|\n",
      "|     205.212.115.106|01/Jul/1995:00:00:12|   -0400|GET/shuttle/count...|    HTTP/1.0|     200| 3985|\n",
      "|         d104.aa.net|01/Jul/1995:00:00:13|   -0400|GET/shuttle/count...|    HTTP/1.0|     200| 3985|\n",
      "|      129.94.144.152|01/Jul/1995:00:00:13|   -0400|                GET/|    HTTP/1.0|     200| 7074|\n",
      "+--------------------+--------------------+--------+--------------------+------------+--------+-----+\n",
      "only showing top 10 rows\n",
      "\n"
     ]
    }
   ],
   "source": [
    "df.show(10)"
   ]
  },
  {
   "cell_type": "markdown",
   "metadata": {},
   "source": [
    "**1) Number of unique hosts.**"
   ]
  },
  {
   "cell_type": "code",
   "execution_count": 130,
   "metadata": {},
   "outputs": [
    {
     "data": {
      "text/plain": [
       "137979"
      ]
     },
     "execution_count": 130,
     "metadata": {},
     "output_type": "execute_result"
    }
   ],
   "source": [
    "df.select(\"host\").distinct().count()"
   ]
  },
  {
   "cell_type": "markdown",
   "metadata": {},
   "source": [
    "**R**:The number of unique hosts is 137979"
   ]
  },
  {
   "cell_type": "markdown",
   "metadata": {},
   "source": [
    "**2) Total 404 errors.**"
   ]
  },
  {
   "cell_type": "code",
   "execution_count": 131,
   "metadata": {},
   "outputs": [
    {
     "data": {
      "text/plain": [
       "20634"
      ]
     },
     "execution_count": 131,
     "metadata": {},
     "output_type": "execute_result"
    }
   ],
   "source": [
    "df.filter('response=404').count()"
   ]
  },
  {
   "cell_type": "markdown",
   "metadata": {},
   "source": [
    "**R:** The total number of 404 errors is 20634"
   ]
  },
  {
   "cell_type": "markdown",
   "metadata": {},
   "source": [
    "**3) Os 5 URLs que mais causaram erro 404.**"
   ]
  },
  {
   "cell_type": "code",
   "execution_count": 132,
   "metadata": {},
   "outputs": [],
   "source": [
    "x = df.filter('response=404')\n"
   ]
  },
  {
   "cell_type": "code",
   "execution_count": 133,
   "metadata": {},
   "outputs": [],
   "source": [
    "hosts = x.groupBy('host').count()"
   ]
  },
  {
   "cell_type": "code",
   "execution_count": 134,
   "metadata": {},
   "outputs": [
    {
     "name": "stdout",
     "output_type": "stream",
     "text": [
      "+--------------------+-----+\n",
      "|                host|count|\n",
      "+--------------------+-----+\n",
      "|hoohoo.ncsa.uiuc.edu|  251|\n",
      "|piweba3y.prodigy.com|  157|\n",
      "|jbiagioni.npt.nuw...|  132|\n",
      "|piweba1y.prodigy.com|  114|\n",
      "|www-d4.proxy.aol.com|   91|\n",
      "|piweba4y.prodigy.com|   86|\n",
      "|scooter.pa-x.dec.com|   69|\n",
      "|phaelon.ksc.nasa.gov|   64|\n",
      "|www-d1.proxy.aol.com|   64|\n",
      "|dialip-217.den.mm...|   62|\n",
      "|www-b4.proxy.aol.com|   62|\n",
      "|www-b3.proxy.aol.com|   61|\n",
      "|www-a2.proxy.aol.com|   60|\n",
      "|www-d2.proxy.aol.com|   59|\n",
      "|piweba2y.prodigy.com|   59|\n",
      "|            titan02f|   59|\n",
      "|monarch.eng.buffa...|   56|\n",
      "|  alyssa.prodigy.com|   56|\n",
      "|www-c4.proxy.aol.com|   53|\n",
      "|www-b2.proxy.aol.com|   53|\n",
      "+--------------------+-----+\n",
      "only showing top 20 rows\n",
      "\n"
     ]
    }
   ],
   "source": [
    "hosts.orderBy(hosts['count'].desc()).show()"
   ]
  },
  {
   "cell_type": "markdown",
   "metadata": {},
   "source": [
    "**R**:The five hosts that had the most 404 errors were hoohoo.ncsa.uiuc.edu, piweba3y.prodigy.com, jbiagioni.npt.nuw, piweba1y.prodigy.com and www-d4.proxy.aol.com"
   ]
  },
  {
   "cell_type": "markdown",
   "metadata": {},
   "source": [
    "**4) Number of 404 errors per day.**"
   ]
  },
  {
   "cell_type": "code",
   "execution_count": 108,
   "metadata": {},
   "outputs": [],
   "source": [
    "x = df.filter('response=404')"
   ]
  },
  {
   "cell_type": "code",
   "execution_count": 112,
   "metadata": {},
   "outputs": [],
   "source": [
    "day = x.groupBy('timestamp').count()"
   ]
  },
  {
   "cell_type": "code",
   "execution_count": 116,
   "metadata": {},
   "outputs": [
    {
     "name": "stdout",
     "output_type": "stream",
     "text": [
      "+--------------------+-----+\n",
      "|           timestamp|count|\n",
      "+--------------------+-----+\n",
      "|28/Aug/1995:11:56:35|    7|\n",
      "|11/Aug/1995:12:05:59|    7|\n",
      "|12/Jul/1995:10:21:30|    5|\n",
      "|12/Jul/1995:10:20:43|    5|\n",
      "|28/Aug/1995:17:14:32|    5|\n",
      "|28/Aug/1995:17:14:42|    5|\n",
      "|12/Jul/1995:10:35:11|    5|\n",
      "|12/Jul/1995:10:24:50|    5|\n",
      "|11/Aug/1995:12:05:58|    5|\n",
      "|12/Jul/1995:10:35:09|    5|\n",
      "|11/Jul/1995:14:08:06|    5|\n",
      "|12/Jul/1995:10:35:12|    5|\n",
      "|17/Aug/1995:16:55:00|    5|\n",
      "|06/Jul/1995:10:31:11|    4|\n",
      "|04/Aug/1995:18:45:58|    4|\n",
      "|28/Aug/1995:17:14:15|    4|\n",
      "|28/Aug/1995:01:05:47|    4|\n",
      "|28/Aug/1995:17:14:28|    4|\n",
      "|13/Aug/1995:14:28:59|    4|\n",
      "|12/Jul/1995:10:35:01|    4|\n",
      "|20/Jul/1995:07:21:17|    4|\n",
      "|12/Jul/1995:10:35:03|    4|\n",
      "|12/Jul/1995:10:21:32|    4|\n",
      "|11/Jul/1995:14:08:20|    3|\n",
      "|20/Jul/1995:03:29:20|    3|\n",
      "|12/Jul/1995:10:23:35|    3|\n",
      "|12/Jul/1995:10:21:28|    3|\n",
      "|12/Jul/1995:10:20:44|    3|\n",
      "|06/Jul/1995:10:31:12|    3|\n",
      "|14/Aug/1995:15:06:49|    3|\n",
      "+--------------------+-----+\n",
      "only showing top 30 rows\n",
      "\n"
     ]
    }
   ],
   "source": [
    "day.orderBy(day['count'].desc()).show(30)\n",
    "#hosts.orderBy(hosts['count'].desc()).show()\n"
   ]
  },
  {
   "cell_type": "code",
   "execution_count": 117,
   "metadata": {},
   "outputs": [
    {
     "name": "stdout",
     "output_type": "stream",
     "text": [
      "6.333333333333333\n"
     ]
    }
   ],
   "source": [
    "avg = (7+5+4+3) / 3\n",
    "print (avg)"
   ]
  },
  {
   "cell_type": "markdown",
   "metadata": {},
   "source": [
    "**R:** the average of 404 errors per day, in the period of July and August is 6 per day"
   ]
  },
  {
   "cell_type": "markdown",
   "metadata": {},
   "source": [
    "**5) The total number of bytes returned.**"
   ]
  },
  {
   "cell_type": "code",
   "execution_count": 120,
   "metadata": {},
   "outputs": [
    {
     "name": "stdout",
     "output_type": "stream",
     "text": [
      "+---------------+\n",
      "|     sum(bytes)|\n",
      "+---------------+\n",
      "|6.5155182365E10|\n",
      "+---------------+\n",
      "\n"
     ]
    }
   ],
   "source": [
    "df.groupBy().agg(f.sum('bytes')).show()"
   ]
  },
  {
   "cell_type": "markdown",
   "metadata": {},
   "source": [
    "**R:** The sum of bytes returned is 6,5155182365 bytes, which is equivalent to 65.1 Gigabytes."
   ]
  }
 ],
 "metadata": {
  "kernelspec": {
   "display_name": "Python 3",
   "language": "python",
   "name": "python3"
  },
  "language_info": {
   "codemirror_mode": {
    "name": "ipython",
    "version": 3
   },
   "file_extension": ".py",
   "mimetype": "text/x-python",
   "name": "python",
   "nbconvert_exporter": "python",
   "pygments_lexer": "ipython3",
   "version": "3.6.8"
  }
 },
 "nbformat": 4,
 "nbformat_minor": 4
}
